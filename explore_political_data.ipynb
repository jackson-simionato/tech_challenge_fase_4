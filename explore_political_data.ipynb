{
 "cells": [
  {
   "cell_type": "code",
   "execution_count": 13,
   "metadata": {},
   "outputs": [],
   "source": [
    "import pandas as pd\n",
    "import os"
   ]
  },
  {
   "cell_type": "code",
   "execution_count": 12,
   "metadata": {},
   "outputs": [],
   "source": [
    "data_folder = './data/dataverse_files/'"
   ]
  },
  {
   "cell_type": "code",
   "execution_count": 22,
   "metadata": {},
   "outputs": [],
   "source": [
    "list_files = [os.path.join(data_folder, file) for file in os.listdir(data_folder) if file.endswith('.tab') or file.endswith('.tsv')]"
   ]
  },
  {
   "cell_type": "code",
   "execution_count": 23,
   "metadata": {},
   "outputs": [
    {
     "data": {
      "text/plain": [
       "42"
      ]
     },
     "execution_count": 23,
     "metadata": {},
     "output_type": "execute_result"
    }
   ],
   "source": [
    "len(list_files)"
   ]
  },
  {
   "cell_type": "code",
   "execution_count": 26,
   "metadata": {},
   "outputs": [
    {
     "name": "stdout",
     "output_type": "stream",
     "text": [
      "0 of 42\n",
      "1 of 42\n",
      "2 of 42\n",
      "3 of 42\n",
      "4 of 42\n",
      "5 of 42\n",
      "6 of 42\n",
      "7 of 42\n",
      "8 of 42\n",
      "9 of 42\n",
      "10 of 42\n",
      "11 of 42\n",
      "12 of 42\n",
      "13 of 42\n",
      "14 of 42\n",
      "15 of 42\n",
      "16 of 42\n",
      "17 of 42\n",
      "18 of 42\n",
      "19 of 42\n",
      "20 of 42\n",
      "21 of 42\n",
      "22 of 42\n",
      "23 of 42\n",
      "24 of 42\n",
      "25 of 42\n",
      "26 of 42\n",
      "27 of 42\n",
      "28 of 42\n",
      "29 of 42\n",
      "30 of 42\n",
      "31 of 42\n",
      "32 of 42\n",
      "33 of 42\n",
      "34 of 42\n",
      "35 of 42\n",
      "36 of 42\n"
     ]
    },
    {
     "name": "stderr",
     "output_type": "stream",
     "text": [
      "C:\\Users\\Jackson Simionato\\AppData\\Local\\Temp\\ipykernel_10508\\1042144044.py:7: DtypeWarning: Columns (6) have mixed types. Specify dtype option on import or set low_memory=False.\n",
      "  aux = pd.read_csv(file, sep='\\t')\n"
     ]
    },
    {
     "name": "stdout",
     "output_type": "stream",
     "text": [
      "37 of 42\n",
      "38 of 42\n",
      "39 of 42\n",
      "40 of 42\n",
      "41 of 42\n"
     ]
    }
   ],
   "source": [
    "for file in list_files:\n",
    "    print(f'{list_files.index(file)} of {len(list_files)}')\n",
    "\n",
    "    if list_files.index(file) == 0:\n",
    "        data = pd.read_csv(file, sep='\\t')\n",
    "    else:\n",
    "        aux = pd.read_csv(file, sep='\\t')\n",
    "\n",
    "        data = pd.concat([data, aux], axis=0)"
   ]
  },
  {
   "cell_type": "code",
   "execution_count": 31,
   "metadata": {},
   "outputs": [],
   "source": [
    "data['event_data'] = pd.to_datetime(data['Event Date'])"
   ]
  },
  {
   "cell_type": "code",
   "execution_count": 37,
   "metadata": {},
   "outputs": [],
   "source": [
    "data.to_csv('./data/dataverse_files/icews_political_events_1995_2023.csv', index=False)"
   ]
  }
 ],
 "metadata": {
  "kernelspec": {
   "display_name": "pyspark_env",
   "language": "python",
   "name": "python3"
  },
  "language_info": {
   "codemirror_mode": {
    "name": "ipython",
    "version": 3
   },
   "file_extension": ".py",
   "mimetype": "text/x-python",
   "name": "python",
   "nbconvert_exporter": "python",
   "pygments_lexer": "ipython3",
   "version": "3.10.9"
  }
 },
 "nbformat": 4,
 "nbformat_minor": 2
}
