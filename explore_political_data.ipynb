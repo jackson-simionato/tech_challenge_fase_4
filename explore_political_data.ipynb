{
 "cells": [
  {
   "cell_type": "code",
   "execution_count": 48,
   "metadata": {},
   "outputs": [],
   "source": [
    "import pandas as pd\n",
    "import os"
   ]
  },
  {
   "cell_type": "code",
   "execution_count": 49,
   "metadata": {},
   "outputs": [],
   "source": [
    "data_folder = './data/icews_political_data/'"
   ]
  },
  {
   "cell_type": "code",
   "execution_count": 50,
   "metadata": {},
   "outputs": [],
   "source": [
    "list_files = [os.path.join(data_folder, file) for file in os.listdir(data_folder) if file.endswith('.tab') or file.endswith('.tsv')]"
   ]
  },
  {
   "cell_type": "code",
   "execution_count": 51,
   "metadata": {},
   "outputs": [
    {
     "data": {
      "text/plain": [
       "42"
      ]
     },
     "execution_count": 51,
     "metadata": {},
     "output_type": "execute_result"
    }
   ],
   "source": [
    "len(list_files)"
   ]
  },
  {
   "cell_type": "code",
   "execution_count": 74,
   "metadata": {},
   "outputs": [
    {
     "data": {
      "text/plain": [
       "Index(['Event ID', 'Event Date', 'Source Name', 'Source Sectors',\n",
       "       'Source Country', 'Event Text', 'CAMEO Code', 'Intensity',\n",
       "       'Target Name', 'Target Sectors', 'Target Country', 'Story ID',\n",
       "       'Sentence Number', 'Publisher', 'City', 'District', 'Province',\n",
       "       'Country', 'Latitude', 'Longitude'],\n",
       "      dtype='object')"
      ]
     },
     "execution_count": 74,
     "metadata": {},
     "output_type": "execute_result"
    }
   ],
   "source": [
    "data.columns"
   ]
  },
  {
   "cell_type": "code",
   "execution_count": 76,
   "metadata": {},
   "outputs": [
    {
     "name": "stdout",
     "output_type": "stream",
     "text": [
      "Event ID             int64\n",
      "Event Date          object\n",
      "Source Name         object\n",
      "Source Sectors      object\n",
      "Source Country      object\n",
      "Event Text          object\n",
      "CAMEO Code          object\n",
      "Intensity          float64\n",
      "Target Name         object\n",
      "Target Sectors      object\n",
      "Target Country      object\n",
      "Story ID             int64\n",
      "Sentence Number      int64\n",
      "Publisher           object\n",
      "City                object\n",
      "District            object\n",
      "Province            object\n",
      "Country             object\n",
      "Latitude           float64\n",
      "Longitude          float64\n",
      "dtype: object\n"
     ]
    }
   ],
   "source": [
    "print(data.dtypes)"
   ]
  },
  {
   "cell_type": "code",
   "execution_count": null,
   "metadata": {},
   "outputs": [],
   "source": [
    "dict_dypes = {'Event ID':int64,'Event Date':str, 'Source Name':str, 'Source Country':str,\n",
    "              'Event Text':}"
   ]
  },
  {
   "cell_type": "code",
   "execution_count": 52,
   "metadata": {},
   "outputs": [
    {
     "name": "stdout",
     "output_type": "stream",
     "text": [
      "0 of 42\n",
      "1 of 42\n",
      "2 of 42\n",
      "3 of 42\n",
      "4 of 42\n",
      "5 of 42\n",
      "6 of 42\n",
      "7 of 42\n",
      "8 of 42\n",
      "9 of 42\n",
      "10 of 42\n",
      "11 of 42\n",
      "12 of 42\n",
      "13 of 42\n",
      "14 of 42\n",
      "15 of 42\n",
      "16 of 42\n",
      "17 of 42\n",
      "18 of 42\n",
      "19 of 42\n",
      "20 of 42\n",
      "21 of 42\n",
      "22 of 42\n",
      "23 of 42\n",
      "24 of 42\n",
      "25 of 42\n",
      "26 of 42\n",
      "27 of 42\n",
      "28 of 42\n",
      "29 of 42\n",
      "30 of 42\n",
      "31 of 42\n",
      "32 of 42\n",
      "33 of 42\n",
      "34 of 42\n",
      "35 of 42\n",
      "36 of 42\n"
     ]
    },
    {
     "name": "stderr",
     "output_type": "stream",
     "text": [
      "C:\\Users\\Jackson Simionato\\AppData\\Local\\Temp\\ipykernel_12208\\1042144044.py:7: DtypeWarning: Columns (6) have mixed types. Specify dtype option on import or set low_memory=False.\n",
      "  aux = pd.read_csv(file, sep='\\t')\n"
     ]
    },
    {
     "name": "stdout",
     "output_type": "stream",
     "text": [
      "37 of 42\n",
      "38 of 42\n",
      "39 of 42\n",
      "40 of 42\n",
      "41 of 42\n"
     ]
    }
   ],
   "source": [
    "for file in list_files:\n",
    "    print(f'{list_files.index(file)} of {len(list_files)}')\n",
    "\n",
    "    if list_files.index(file) == 0:\n",
    "        data = pd.read_csv(file, sep='\\t')\n",
    "    else:\n",
    "        aux = pd.read_csv(file, sep='\\t')\n",
    "\n",
    "        data = pd.concat([data, aux], axis=0)"
   ]
  },
  {
   "cell_type": "code",
   "execution_count": 53,
   "metadata": {},
   "outputs": [
    {
     "name": "stdout",
     "output_type": "stream",
     "text": [
      "Total de linhas: 20402364\n"
     ]
    }
   ],
   "source": [
    "print(f'Total de linhas: {len(data)}')"
   ]
  },
  {
   "cell_type": "markdown",
   "metadata": {},
   "source": [
    "# Conversão datetime"
   ]
  },
  {
   "cell_type": "code",
   "execution_count": 82,
   "metadata": {},
   "outputs": [],
   "source": [
    "processed_data = data.copy()"
   ]
  },
  {
   "cell_type": "code",
   "execution_count": 83,
   "metadata": {},
   "outputs": [],
   "source": [
    "processed_data['Event Date'] = pd.to_datetime(processed_data['Event Date'])"
   ]
  },
  {
   "cell_type": "markdown",
   "metadata": {},
   "source": [
    "# Sort by datetime"
   ]
  },
  {
   "cell_type": "code",
   "execution_count": 84,
   "metadata": {},
   "outputs": [],
   "source": [
    "processed_data.sort_values(by='Event Date', inplace=True)"
   ]
  },
  {
   "cell_type": "code",
   "execution_count": 85,
   "metadata": {},
   "outputs": [],
   "source": [
    "processed_data.reset_index(drop=True, inplace=True)"
   ]
  },
  {
   "cell_type": "code",
   "execution_count": 86,
   "metadata": {},
   "outputs": [
    {
     "data": {
      "text/html": [
       "<div>\n",
       "<style scoped>\n",
       "    .dataframe tbody tr th:only-of-type {\n",
       "        vertical-align: middle;\n",
       "    }\n",
       "\n",
       "    .dataframe tbody tr th {\n",
       "        vertical-align: top;\n",
       "    }\n",
       "\n",
       "    .dataframe thead th {\n",
       "        text-align: right;\n",
       "    }\n",
       "</style>\n",
       "<table border=\"1\" class=\"dataframe\">\n",
       "  <thead>\n",
       "    <tr style=\"text-align: right;\">\n",
       "      <th></th>\n",
       "      <th>Event ID</th>\n",
       "      <th>Event Date</th>\n",
       "      <th>Source Name</th>\n",
       "      <th>Source Sectors</th>\n",
       "      <th>Source Country</th>\n",
       "      <th>Event Text</th>\n",
       "      <th>CAMEO Code</th>\n",
       "      <th>Intensity</th>\n",
       "      <th>Target Name</th>\n",
       "      <th>Target Sectors</th>\n",
       "      <th>Target Country</th>\n",
       "      <th>Story ID</th>\n",
       "      <th>Sentence Number</th>\n",
       "      <th>Publisher</th>\n",
       "      <th>City</th>\n",
       "      <th>District</th>\n",
       "      <th>Province</th>\n",
       "      <th>Country</th>\n",
       "      <th>Latitude</th>\n",
       "      <th>Longitude</th>\n",
       "    </tr>\n",
       "  </thead>\n",
       "  <tbody>\n",
       "    <tr>\n",
       "      <th>0</th>\n",
       "      <td>926716</td>\n",
       "      <td>1995-01-01</td>\n",
       "      <td>Main Opposition (Mexico)</td>\n",
       "      <td>Protestors / Popular Opposition / Mobs,Dissident</td>\n",
       "      <td>Mexico</td>\n",
       "      <td>Threaten</td>\n",
       "      <td>130</td>\n",
       "      <td>-4.4</td>\n",
       "      <td>Citizen (Mexico)</td>\n",
       "      <td>Social,General Population / Civilian / Social</td>\n",
       "      <td>Mexico</td>\n",
       "      <td>28242696</td>\n",
       "      <td>1</td>\n",
       "      <td>The Washington Post</td>\n",
       "      <td>Salinas</td>\n",
       "      <td>NaN</td>\n",
       "      <td>Estado de Tamaulipas</td>\n",
       "      <td>Mexico</td>\n",
       "      <td>26.2833</td>\n",
       "      <td>-98.8167</td>\n",
       "    </tr>\n",
       "    <tr>\n",
       "      <th>1</th>\n",
       "      <td>926686</td>\n",
       "      <td>1995-01-01</td>\n",
       "      <td>Citizen (Serbia)</td>\n",
       "      <td>General Population / Civilian / Social,Social</td>\n",
       "      <td>Serbia</td>\n",
       "      <td>Express intent to cooperate</td>\n",
       "      <td>30</td>\n",
       "      <td>4.0</td>\n",
       "      <td>Government (Bosnia and Herzegovina)</td>\n",
       "      <td>Government</td>\n",
       "      <td>Bosnia and Herzegovina</td>\n",
       "      <td>28235807</td>\n",
       "      <td>1</td>\n",
       "      <td>The Toronto Star</td>\n",
       "      <td>NaN</td>\n",
       "      <td>NaN</td>\n",
       "      <td>Bosnia</td>\n",
       "      <td>Bosnia and Herzegovina</td>\n",
       "      <td>44.0000</td>\n",
       "      <td>18.0000</td>\n",
       "    </tr>\n",
       "    <tr>\n",
       "      <th>2</th>\n",
       "      <td>926688</td>\n",
       "      <td>1995-01-01</td>\n",
       "      <td>Canada</td>\n",
       "      <td>NaN</td>\n",
       "      <td>Canada</td>\n",
       "      <td>Praise or endorse</td>\n",
       "      <td>51</td>\n",
       "      <td>3.4</td>\n",
       "      <td>City Mayor (Canada)</td>\n",
       "      <td>Government,Local,Municipal</td>\n",
       "      <td>Canada</td>\n",
       "      <td>28235809</td>\n",
       "      <td>3</td>\n",
       "      <td>The Toronto Star</td>\n",
       "      <td>NaN</td>\n",
       "      <td>NaN</td>\n",
       "      <td>Ontario</td>\n",
       "      <td>Canada</td>\n",
       "      <td>49.2501</td>\n",
       "      <td>-84.4998</td>\n",
       "    </tr>\n",
       "    <tr>\n",
       "      <th>3</th>\n",
       "      <td>926689</td>\n",
       "      <td>1995-01-01</td>\n",
       "      <td>Lawyer/Attorney (Canada)</td>\n",
       "      <td>Legal,Social</td>\n",
       "      <td>Canada</td>\n",
       "      <td>Arrest, detain, or charge with legal action</td>\n",
       "      <td>173</td>\n",
       "      <td>-5.0</td>\n",
       "      <td>Police (Canada)</td>\n",
       "      <td>Government,Police</td>\n",
       "      <td>Canada</td>\n",
       "      <td>28235964</td>\n",
       "      <td>1</td>\n",
       "      <td>The Toronto Star</td>\n",
       "      <td>Montreal</td>\n",
       "      <td>Montreal</td>\n",
       "      <td>Quebec</td>\n",
       "      <td>Canada</td>\n",
       "      <td>45.5088</td>\n",
       "      <td>-73.5878</td>\n",
       "    </tr>\n",
       "    <tr>\n",
       "      <th>4</th>\n",
       "      <td>926690</td>\n",
       "      <td>1995-01-01</td>\n",
       "      <td>Military (Russia)</td>\n",
       "      <td>Military,Government</td>\n",
       "      <td>Russian Federation</td>\n",
       "      <td>fight with small arms and light weapons</td>\n",
       "      <td>193</td>\n",
       "      <td>-10.0</td>\n",
       "      <td>Russia</td>\n",
       "      <td>NaN</td>\n",
       "      <td>Russian Federation</td>\n",
       "      <td>28235965</td>\n",
       "      <td>4</td>\n",
       "      <td>The Toronto Star</td>\n",
       "      <td>NaN</td>\n",
       "      <td>NaN</td>\n",
       "      <td>Chechenskaya Respublika</td>\n",
       "      <td>Russian Federation</td>\n",
       "      <td>43.2500</td>\n",
       "      <td>45.8333</td>\n",
       "    </tr>\n",
       "  </tbody>\n",
       "</table>\n",
       "</div>"
      ],
      "text/plain": [
       "   Event ID Event Date               Source Name  \\\n",
       "0    926716 1995-01-01  Main Opposition (Mexico)   \n",
       "1    926686 1995-01-01          Citizen (Serbia)   \n",
       "2    926688 1995-01-01                    Canada   \n",
       "3    926689 1995-01-01  Lawyer/Attorney (Canada)   \n",
       "4    926690 1995-01-01         Military (Russia)   \n",
       "\n",
       "                                     Source Sectors      Source Country  \\\n",
       "0  Protestors / Popular Opposition / Mobs,Dissident              Mexico   \n",
       "1     General Population / Civilian / Social,Social              Serbia   \n",
       "2                                               NaN              Canada   \n",
       "3                                      Legal,Social              Canada   \n",
       "4                               Military,Government  Russian Federation   \n",
       "\n",
       "                                    Event Text CAMEO Code  Intensity  \\\n",
       "0                                     Threaten        130       -4.4   \n",
       "1                  Express intent to cooperate         30        4.0   \n",
       "2                            Praise or endorse         51        3.4   \n",
       "3  Arrest, detain, or charge with legal action        173       -5.0   \n",
       "4      fight with small arms and light weapons        193      -10.0   \n",
       "\n",
       "                           Target Name  \\\n",
       "0                     Citizen (Mexico)   \n",
       "1  Government (Bosnia and Herzegovina)   \n",
       "2                  City Mayor (Canada)   \n",
       "3                      Police (Canada)   \n",
       "4                               Russia   \n",
       "\n",
       "                                  Target Sectors          Target Country  \\\n",
       "0  Social,General Population / Civilian / Social                  Mexico   \n",
       "1                                     Government  Bosnia and Herzegovina   \n",
       "2                     Government,Local,Municipal                  Canada   \n",
       "3                              Government,Police                  Canada   \n",
       "4                                            NaN      Russian Federation   \n",
       "\n",
       "   Story ID  Sentence Number            Publisher      City  District  \\\n",
       "0  28242696                1  The Washington Post   Salinas       NaN   \n",
       "1  28235807                1     The Toronto Star       NaN       NaN   \n",
       "2  28235809                3     The Toronto Star       NaN       NaN   \n",
       "3  28235964                1     The Toronto Star  Montreal  Montreal   \n",
       "4  28235965                4     The Toronto Star       NaN       NaN   \n",
       "\n",
       "                  Province                 Country  Latitude  Longitude  \n",
       "0     Estado de Tamaulipas                  Mexico   26.2833   -98.8167  \n",
       "1                   Bosnia  Bosnia and Herzegovina   44.0000    18.0000  \n",
       "2                  Ontario                  Canada   49.2501   -84.4998  \n",
       "3                   Quebec                  Canada   45.5088   -73.5878  \n",
       "4  Chechenskaya Respublika      Russian Federation   43.2500    45.8333  "
      ]
     },
     "execution_count": 86,
     "metadata": {},
     "output_type": "execute_result"
    }
   ],
   "source": [
    "processed_data.head()"
   ]
  },
  {
   "cell_type": "markdown",
   "metadata": {},
   "source": [
    "# Valores nulos"
   ]
  },
  {
   "cell_type": "code",
   "execution_count": 87,
   "metadata": {},
   "outputs": [],
   "source": [
    "str_columns = processed_data.select_dtypes(object).columns\n",
    "processed_data[str_columns] = processed_data[str_columns].fillna('Unknown') "
   ]
  },
  {
   "cell_type": "code",
   "execution_count": 88,
   "metadata": {},
   "outputs": [],
   "source": [
    "num_columns = processed_data.select_dtypes(exclude=object).columns\n",
    "processed_data.dropna(subset=num_columns, inplace=True, how='any')"
   ]
  },
  {
   "cell_type": "markdown",
   "metadata": {},
   "source": [
    "# Ajuste dtypes str, int e float"
   ]
  },
  {
   "cell_type": "code",
   "execution_count": 89,
   "metadata": {},
   "outputs": [],
   "source": [
    "int_columns = processed_data.select_dtypes(int).columns\n",
    "float_columns = processed_data.select_dtypes(float).columns"
   ]
  },
  {
   "cell_type": "code",
   "execution_count": 90,
   "metadata": {},
   "outputs": [],
   "source": [
    "processed_data[str_columns] = processed_data[str_columns].astype(str)\n",
    "processed_data[int_columns] = processed_data[int_columns].astype(int)\n",
    "processed_data[float_columns] = processed_data[float_columns].astype(float)"
   ]
  },
  {
   "cell_type": "markdown",
   "metadata": {},
   "source": [
    "# Renomeando colunas"
   ]
  },
  {
   "cell_type": "code",
   "execution_count": 91,
   "metadata": {},
   "outputs": [
    {
     "name": "stdout",
     "output_type": "stream",
     "text": [
      "20\n",
      "20\n"
     ]
    }
   ],
   "source": [
    "new_columns = ['evento_id','evento_date','fonte_nome','fonte_setor','fonte_pais','evento_desc','CAMEO_code','intensidade',\n",
    "               'alvo_nome','alvo_setor','alvo_pais','historia_id','sentenca_num','portal_noticias',\n",
    "               'cidade','distrito','provincia','pais','latitude','longitude'\n",
    "               ]\n",
    "\n",
    "print(len(new_columns))\n",
    "print(len(processed_data.columns))"
   ]
  },
  {
   "cell_type": "code",
   "execution_count": 92,
   "metadata": {},
   "outputs": [],
   "source": [
    "processed_data.columns = new_columns"
   ]
  },
  {
   "cell_type": "code",
   "execution_count": 93,
   "metadata": {},
   "outputs": [
    {
     "name": "stdout",
     "output_type": "stream",
     "text": [
      "Total de linhas após processamento: 20399739\n"
     ]
    }
   ],
   "source": [
    "print(f'Total de linhas após processamento: {len(processed_data)}')"
   ]
  },
  {
   "cell_type": "markdown",
   "metadata": {},
   "source": [
    "# Big Query connection"
   ]
  },
  {
   "cell_type": "code",
   "execution_count": 94,
   "metadata": {},
   "outputs": [],
   "source": [
    "project_id = 'brave-tea-400210'\n",
    "dataset_id = 'icews_political_data'\n",
    "table_id = 'icews_political_data_1995_2023'"
   ]
  },
  {
   "cell_type": "code",
   "execution_count": 95,
   "metadata": {},
   "outputs": [
    {
     "data": {
      "text/html": [
       "<div>\n",
       "<style scoped>\n",
       "    .dataframe tbody tr th:only-of-type {\n",
       "        vertical-align: middle;\n",
       "    }\n",
       "\n",
       "    .dataframe tbody tr th {\n",
       "        vertical-align: top;\n",
       "    }\n",
       "\n",
       "    .dataframe thead th {\n",
       "        text-align: right;\n",
       "    }\n",
       "</style>\n",
       "<table border=\"1\" class=\"dataframe\">\n",
       "  <thead>\n",
       "    <tr style=\"text-align: right;\">\n",
       "      <th></th>\n",
       "      <th>evento_id</th>\n",
       "      <th>evento_date</th>\n",
       "      <th>fonte_nome</th>\n",
       "      <th>fonte_setor</th>\n",
       "      <th>fonte_pais</th>\n",
       "      <th>evento_desc</th>\n",
       "      <th>CAMEO_code</th>\n",
       "      <th>intensidade</th>\n",
       "      <th>alvo_nome</th>\n",
       "      <th>alvo_setor</th>\n",
       "      <th>alvo_pais</th>\n",
       "      <th>historia_id</th>\n",
       "      <th>sentenca_num</th>\n",
       "      <th>portal_noticias</th>\n",
       "      <th>cidade</th>\n",
       "      <th>distrito</th>\n",
       "      <th>provincia</th>\n",
       "      <th>pais</th>\n",
       "      <th>latitude</th>\n",
       "      <th>longitude</th>\n",
       "    </tr>\n",
       "  </thead>\n",
       "  <tbody>\n",
       "    <tr>\n",
       "      <th>0</th>\n",
       "      <td>926716</td>\n",
       "      <td>1995-01-01</td>\n",
       "      <td>Main Opposition (Mexico)</td>\n",
       "      <td>Protestors / Popular Opposition / Mobs,Dissident</td>\n",
       "      <td>Mexico</td>\n",
       "      <td>Threaten</td>\n",
       "      <td>130</td>\n",
       "      <td>-4.4</td>\n",
       "      <td>Citizen (Mexico)</td>\n",
       "      <td>Social,General Population / Civilian / Social</td>\n",
       "      <td>Mexico</td>\n",
       "      <td>28242696</td>\n",
       "      <td>1</td>\n",
       "      <td>The Washington Post</td>\n",
       "      <td>Salinas</td>\n",
       "      <td>Unknown</td>\n",
       "      <td>Estado de Tamaulipas</td>\n",
       "      <td>Mexico</td>\n",
       "      <td>26.2833</td>\n",
       "      <td>-98.8167</td>\n",
       "    </tr>\n",
       "    <tr>\n",
       "      <th>1</th>\n",
       "      <td>926686</td>\n",
       "      <td>1995-01-01</td>\n",
       "      <td>Citizen (Serbia)</td>\n",
       "      <td>General Population / Civilian / Social,Social</td>\n",
       "      <td>Serbia</td>\n",
       "      <td>Express intent to cooperate</td>\n",
       "      <td>30</td>\n",
       "      <td>4.0</td>\n",
       "      <td>Government (Bosnia and Herzegovina)</td>\n",
       "      <td>Government</td>\n",
       "      <td>Bosnia and Herzegovina</td>\n",
       "      <td>28235807</td>\n",
       "      <td>1</td>\n",
       "      <td>The Toronto Star</td>\n",
       "      <td>Unknown</td>\n",
       "      <td>Unknown</td>\n",
       "      <td>Bosnia</td>\n",
       "      <td>Bosnia and Herzegovina</td>\n",
       "      <td>44.0000</td>\n",
       "      <td>18.0000</td>\n",
       "    </tr>\n",
       "    <tr>\n",
       "      <th>2</th>\n",
       "      <td>926688</td>\n",
       "      <td>1995-01-01</td>\n",
       "      <td>Canada</td>\n",
       "      <td>Unknown</td>\n",
       "      <td>Canada</td>\n",
       "      <td>Praise or endorse</td>\n",
       "      <td>51</td>\n",
       "      <td>3.4</td>\n",
       "      <td>City Mayor (Canada)</td>\n",
       "      <td>Government,Local,Municipal</td>\n",
       "      <td>Canada</td>\n",
       "      <td>28235809</td>\n",
       "      <td>3</td>\n",
       "      <td>The Toronto Star</td>\n",
       "      <td>Unknown</td>\n",
       "      <td>Unknown</td>\n",
       "      <td>Ontario</td>\n",
       "      <td>Canada</td>\n",
       "      <td>49.2501</td>\n",
       "      <td>-84.4998</td>\n",
       "    </tr>\n",
       "    <tr>\n",
       "      <th>3</th>\n",
       "      <td>926689</td>\n",
       "      <td>1995-01-01</td>\n",
       "      <td>Lawyer/Attorney (Canada)</td>\n",
       "      <td>Legal,Social</td>\n",
       "      <td>Canada</td>\n",
       "      <td>Arrest, detain, or charge with legal action</td>\n",
       "      <td>173</td>\n",
       "      <td>-5.0</td>\n",
       "      <td>Police (Canada)</td>\n",
       "      <td>Government,Police</td>\n",
       "      <td>Canada</td>\n",
       "      <td>28235964</td>\n",
       "      <td>1</td>\n",
       "      <td>The Toronto Star</td>\n",
       "      <td>Montreal</td>\n",
       "      <td>Montreal</td>\n",
       "      <td>Quebec</td>\n",
       "      <td>Canada</td>\n",
       "      <td>45.5088</td>\n",
       "      <td>-73.5878</td>\n",
       "    </tr>\n",
       "    <tr>\n",
       "      <th>4</th>\n",
       "      <td>926690</td>\n",
       "      <td>1995-01-01</td>\n",
       "      <td>Military (Russia)</td>\n",
       "      <td>Military,Government</td>\n",
       "      <td>Russian Federation</td>\n",
       "      <td>fight with small arms and light weapons</td>\n",
       "      <td>193</td>\n",
       "      <td>-10.0</td>\n",
       "      <td>Russia</td>\n",
       "      <td>Unknown</td>\n",
       "      <td>Russian Federation</td>\n",
       "      <td>28235965</td>\n",
       "      <td>4</td>\n",
       "      <td>The Toronto Star</td>\n",
       "      <td>Unknown</td>\n",
       "      <td>Unknown</td>\n",
       "      <td>Chechenskaya Respublika</td>\n",
       "      <td>Russian Federation</td>\n",
       "      <td>43.2500</td>\n",
       "      <td>45.8333</td>\n",
       "    </tr>\n",
       "  </tbody>\n",
       "</table>\n",
       "</div>"
      ],
      "text/plain": [
       "   evento_id evento_date                fonte_nome  \\\n",
       "0     926716  1995-01-01  Main Opposition (Mexico)   \n",
       "1     926686  1995-01-01          Citizen (Serbia)   \n",
       "2     926688  1995-01-01                    Canada   \n",
       "3     926689  1995-01-01  Lawyer/Attorney (Canada)   \n",
       "4     926690  1995-01-01         Military (Russia)   \n",
       "\n",
       "                                        fonte_setor          fonte_pais  \\\n",
       "0  Protestors / Popular Opposition / Mobs,Dissident              Mexico   \n",
       "1     General Population / Civilian / Social,Social              Serbia   \n",
       "2                                           Unknown              Canada   \n",
       "3                                      Legal,Social              Canada   \n",
       "4                               Military,Government  Russian Federation   \n",
       "\n",
       "                                   evento_desc CAMEO_code  intensidade  \\\n",
       "0                                     Threaten        130         -4.4   \n",
       "1                  Express intent to cooperate         30          4.0   \n",
       "2                            Praise or endorse         51          3.4   \n",
       "3  Arrest, detain, or charge with legal action        173         -5.0   \n",
       "4      fight with small arms and light weapons        193        -10.0   \n",
       "\n",
       "                             alvo_nome  \\\n",
       "0                     Citizen (Mexico)   \n",
       "1  Government (Bosnia and Herzegovina)   \n",
       "2                  City Mayor (Canada)   \n",
       "3                      Police (Canada)   \n",
       "4                               Russia   \n",
       "\n",
       "                                      alvo_setor               alvo_pais  \\\n",
       "0  Social,General Population / Civilian / Social                  Mexico   \n",
       "1                                     Government  Bosnia and Herzegovina   \n",
       "2                     Government,Local,Municipal                  Canada   \n",
       "3                              Government,Police                  Canada   \n",
       "4                                        Unknown      Russian Federation   \n",
       "\n",
       "   historia_id  sentenca_num      portal_noticias    cidade  distrito  \\\n",
       "0     28242696             1  The Washington Post   Salinas   Unknown   \n",
       "1     28235807             1     The Toronto Star   Unknown   Unknown   \n",
       "2     28235809             3     The Toronto Star   Unknown   Unknown   \n",
       "3     28235964             1     The Toronto Star  Montreal  Montreal   \n",
       "4     28235965             4     The Toronto Star   Unknown   Unknown   \n",
       "\n",
       "                 provincia                    pais  latitude  longitude  \n",
       "0     Estado de Tamaulipas                  Mexico   26.2833   -98.8167  \n",
       "1                   Bosnia  Bosnia and Herzegovina   44.0000    18.0000  \n",
       "2                  Ontario                  Canada   49.2501   -84.4998  \n",
       "3                   Quebec                  Canada   45.5088   -73.5878  \n",
       "4  Chechenskaya Respublika      Russian Federation   43.2500    45.8333  "
      ]
     },
     "execution_count": 95,
     "metadata": {},
     "output_type": "execute_result"
    }
   ],
   "source": [
    "processed_data.head()"
   ]
  },
  {
   "cell_type": "code",
   "execution_count": 96,
   "metadata": {},
   "outputs": [
    {
     "data": {
      "text/plain": [
       "evento_id                   int32\n",
       "evento_date        datetime64[ns]\n",
       "fonte_nome                 object\n",
       "fonte_setor                object\n",
       "fonte_pais                 object\n",
       "evento_desc                object\n",
       "CAMEO_code                 object\n",
       "intensidade               float64\n",
       "alvo_nome                  object\n",
       "alvo_setor                 object\n",
       "alvo_pais                  object\n",
       "historia_id                 int32\n",
       "sentenca_num                int32\n",
       "portal_noticias            object\n",
       "cidade                     object\n",
       "distrito                   object\n",
       "provincia                  object\n",
       "pais                       object\n",
       "latitude                  float64\n",
       "longitude                 float64\n",
       "dtype: object"
      ]
     },
     "execution_count": 96,
     "metadata": {},
     "output_type": "execute_result"
    }
   ],
   "source": [
    "processed_data.dtypes"
   ]
  },
  {
   "cell_type": "code",
   "execution_count": 97,
   "metadata": {},
   "outputs": [],
   "source": [
    "# Use the pandas_gbq.to_gbq() function to insert the DataFrame into BigQuery\n",
    "pd.io.gbq.to_gbq(processed_data, f'{project_id}.{dataset_id}.{table_id}', project_id=project_id, if_exists='replace')"
   ]
  }
 ],
 "metadata": {
  "kernelspec": {
   "display_name": "pyspark_env",
   "language": "python",
   "name": "python3"
  },
  "language_info": {
   "codemirror_mode": {
    "name": "ipython",
    "version": 3
   },
   "file_extension": ".py",
   "mimetype": "text/x-python",
   "name": "python",
   "nbconvert_exporter": "python",
   "pygments_lexer": "ipython3",
   "version": "0.0.0"
  }
 },
 "nbformat": 4,
 "nbformat_minor": 2
}
